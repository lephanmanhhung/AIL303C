{
 "cells": [
  {
   "cell_type": "markdown",
   "metadata": {},
   "source": [
    "Đọc file CSV"
   ]
  },
  {
   "cell_type": "code",
   "execution_count": 7,
   "metadata": {},
   "outputs": [
    {
     "name": "stdout",
     "output_type": "stream",
     "text": [
      "   Id  SepalLengthCm  SepalWidthCm  PetalLengthCm  PetalWidthCm      Species\n",
      "0   1            5.1           3.5            1.4           0.2  Iris-setosa\n",
      "1   2            4.9           3.0            1.4           0.2  Iris-setosa\n",
      "2   3            4.7           3.2            1.3           0.2  Iris-setosa\n",
      "3   4            4.6           3.1            1.5           0.2  Iris-setosa\n",
      "4   5            5.0           3.6            1.4           0.2  Iris-setosa\n"
     ]
    },
    {
     "name": "stderr",
     "output_type": "stream",
     "text": [
      "<>:2: SyntaxWarning: invalid escape sequence '\\A'\n",
      "<>:2: SyntaxWarning: invalid escape sequence '\\A'\n",
      "C:\\Users\\manhh\\AppData\\Local\\Temp\\ipykernel_28036\\1866368027.py:2: SyntaxWarning: invalid escape sequence '\\A'\n",
      "  df = pd.read_csv('D:\\AIL303\\source_1\\Iris.csv')\n"
     ]
    }
   ],
   "source": [
    "import pandas as pd\n",
    "df = pd.read_csv('D:\\AIL303\\source_1\\Iris.csv')\n",
    "print(df.head())"
   ]
  },
  {
   "cell_type": "markdown",
   "metadata": {},
   "source": [
    "Task 1"
   ]
  },
  {
   "cell_type": "code",
   "execution_count": 3,
   "metadata": {},
   "outputs": [
    {
     "name": "stdout",
     "output_type": "stream",
     "text": [
      "   Id  SepalLengthCm  SepalWidthCm  PetalLengthCm  PetalWidthCm      Species\n",
      "0   1            5.1           3.5            1.4           0.2  Iris-setosa\n",
      "1   2            4.9           3.0            1.4           0.2  Iris-setosa\n",
      "2   3            4.7           3.2            1.3           0.2  Iris-setosa\n",
      "3   4            4.6           3.1            1.5           0.2  Iris-setosa\n",
      "4   5            5.0           3.6            1.4           0.2  Iris-setosa\n"
     ]
    }
   ],
   "source": [
    "print(df.iloc[:5])"
   ]
  },
  {
   "cell_type": "markdown",
   "metadata": {},
   "source": [
    "Đọc file JSON\n"
   ]
  },
  {
   "cell_type": "code",
   "execution_count": 8,
   "metadata": {},
   "outputs": [
    {
     "name": "stdout",
     "output_type": "stream",
     "text": [
      "     sepalLength  sepalWidth  petalLength  petalWidth    species\n",
      "0            5.1         3.5          1.4         0.2     setosa\n",
      "1            4.9         3.0          1.4         0.2     setosa\n",
      "2            4.7         3.2          1.3         0.2     setosa\n",
      "3            4.6         3.1          1.5         0.2     setosa\n",
      "4            5.0         3.6          1.4         0.2     setosa\n",
      "..           ...         ...          ...         ...        ...\n",
      "145          6.7         3.0          5.2         2.3  virginica\n",
      "146          6.3         2.5          5.0         1.9  virginica\n",
      "147          6.5         3.0          5.2         2.0  virginica\n",
      "148          6.2         3.4          5.4         2.3  virginica\n",
      "149          5.9         3.0          5.1         1.8  virginica\n",
      "\n",
      "[150 rows x 5 columns]\n"
     ]
    },
    {
     "name": "stderr",
     "output_type": "stream",
     "text": [
      "<>:1: SyntaxWarning: invalid escape sequence '\\A'\n",
      "<>:1: SyntaxWarning: invalid escape sequence '\\A'\n",
      "C:\\Users\\manhh\\AppData\\Local\\Temp\\ipykernel_28036\\1712215778.py:1: SyntaxWarning: invalid escape sequence '\\A'\n",
      "  df_1 = pd.read_json('D:\\AIL303\\source_1\\iris.json')\n"
     ]
    }
   ],
   "source": [
    "df_1 = pd.read_json('D:\\AIL303\\source_1\\iris.json')\n",
    "print(df_1)"
   ]
  },
  {
   "cell_type": "code",
   "execution_count": 9,
   "metadata": {},
   "outputs": [
    {
     "name": "stdout",
     "output_type": "stream",
     "text": [
      "     sepalLength  sepalWidth  petalLength  petalWidth    species\n",
      "0            5.1         3.5          1.4         0.2     setosa\n",
      "1            4.9         3.0          1.4         0.2     setosa\n",
      "2            4.7         3.2          1.3         0.2     setosa\n",
      "3            4.6         3.1          1.5         0.2     setosa\n",
      "4            5.0         3.6          1.4         0.2     setosa\n",
      "..           ...         ...          ...         ...        ...\n",
      "145          6.7         3.0          5.2         2.3  virginica\n",
      "146          6.3         2.5          5.0         1.9  virginica\n",
      "147          6.5         3.0          5.2         2.0  virginica\n",
      "148          6.2         3.4          5.4         2.3  virginica\n",
      "149          5.9         3.0          5.1         1.8  virginica\n",
      "\n",
      "[150 rows x 5 columns]\n"
     ]
    }
   ],
   "source": [
    "df_1.to_json('iris.json')\n",
    "print(df_1)"
   ]
  },
  {
   "cell_type": "markdown",
   "metadata": {},
   "source": [
    "Đọc file TSV"
   ]
  },
  {
   "cell_type": "code",
   "execution_count": 8,
   "metadata": {},
   "outputs": [
    {
     "name": "stdout",
     "output_type": "stream",
     "text": [
      "   u0  u2  m0         ['L194' 'L195' 'L196' 'L197']\n",
      "0  u0  u2  m0                       ['L198' 'L199']\n",
      "1  u0  u2  m0         ['L200' 'L201' 'L202' 'L203']\n",
      "2  u0  u2  m0                ['L204' 'L205' 'L206']\n",
      "3  u0  u2  m0                       ['L207' 'L208']\n",
      "4  u0  u2  m0  ['L271' 'L272' 'L273' 'L274' 'L275']\n"
     ]
    },
    {
     "name": "stderr",
     "output_type": "stream",
     "text": [
      "<>:1: SyntaxWarning: invalid escape sequence '\\A'\n",
      "<>:1: SyntaxWarning: invalid escape sequence '\\A'\n",
      "C:\\Users\\manhh\\AppData\\Local\\Temp\\ipykernel_2340\\3015370888.py:1: SyntaxWarning: invalid escape sequence '\\A'\n",
      "  df_2 = pd.read_csv('D:\\AIL303\\source_1\\movie_conversations.tsv',sep ='\\t')\n"
     ]
    }
   ],
   "source": [
    "df_2 = pd.read_csv('D:\\AIL303\\source_1\\movie_conversations.tsv',sep ='\\t')\n",
    "print(df_2.head())"
   ]
  },
  {
   "cell_type": "markdown",
   "metadata": {},
   "source": [
    "TASK SQL query"
   ]
  },
  {
   "cell_type": "code",
   "execution_count": 1,
   "metadata": {},
   "outputs": [],
   "source": [
    "import sqlite3 as sq3\n"
   ]
  },
  {
   "cell_type": "markdown",
   "metadata": {},
   "source": [
    "Connect SQL dataset"
   ]
  },
  {
   "cell_type": "code",
   "execution_count": 2,
   "metadata": {},
   "outputs": [
    {
     "name": "stderr",
     "output_type": "stream",
     "text": [
      "<>:1: SyntaxWarning: invalid escape sequence '\\A'\n",
      "<>:1: SyntaxWarning: invalid escape sequence '\\A'\n",
      "C:\\Users\\manhh\\AppData\\Local\\Temp\\ipykernel_28036\\351402336.py:1: SyntaxWarning: invalid escape sequence '\\A'\n",
      "  con = sq3.Connection('D:\\AIL303\\source_1\\olist.sqlite')\n"
     ]
    }
   ],
   "source": [
    "con = sq3.Connection('D:\\AIL303\\source_1\\olist.sqlite')"
   ]
  },
  {
   "cell_type": "markdown",
   "metadata": {},
   "source": [
    "Query"
   ]
  },
  {
   "cell_type": "code",
   "execution_count": 3,
   "metadata": {},
   "outputs": [],
   "source": [
    "query = '''Select*from customers'''"
   ]
  },
  {
   "cell_type": "code",
   "execution_count": 6,
   "metadata": {},
   "outputs": [],
   "source": [
    "data = pd.read_sql(query,con)"
   ]
  },
  {
   "cell_type": "markdown",
   "metadata": {},
   "source": [
    "APls and Cloud Data Access"
   ]
  },
  {
   "cell_type": "code",
   "execution_count": 11,
   "metadata": {},
   "outputs": [],
   "source": [
    "df_3 = pd.read_csv(\n",
    "'https://archive.ics.uci.edu/ml/machine-learning-databases/iris/iris.data',header= None\n",
    ")"
   ]
  }
 ],
 "metadata": {
  "kernelspec": {
   "display_name": "Python 3",
   "language": "python",
   "name": "python3"
  },
  "language_info": {
   "codemirror_mode": {
    "name": "ipython",
    "version": 3
   },
   "file_extension": ".py",
   "mimetype": "text/x-python",
   "name": "python",
   "nbconvert_exporter": "python",
   "pygments_lexer": "ipython3",
   "version": "3.12.1"
  }
 },
 "nbformat": 4,
 "nbformat_minor": 2
}
